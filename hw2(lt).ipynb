{
 "cells": [
  {
   "cell_type": "code",
   "execution_count": 75,
   "metadata": {},
   "outputs": [],
   "source": [
    "class Token:\n",
    "   def __init__(self, token_values):\n",
    "       self.ID = token_values[0]\n",
    "       self.FORM = token_values[1]\n",
    "       self.LEMMA = token_values[2]\n",
    "       self.UPOS = token_values[3]\n",
    "       self.XPOS = token_values[4]\n",
    "       self.FEATS = token_values[5]\n",
    "       self.HEAD = token_values[6]\n",
    "       self.DEPREL = token_values[7]\n",
    "       self.DEPS = token_values[8]\n",
    "       self.MISC = token_values[9]\n",
    "class Sentence:\n",
    "   def __init__(self, tokens):\n",
    "       self.tokens = tokens"
   ]
  },
  {
   "cell_type": "code",
   "execution_count": 85,
   "metadata": {},
   "outputs": [],
   "source": [
    "class Conll:\n",
    "    def __init__(self, file_path):\n",
    "        self.sentences = self.read_conllu(file_path)\n",
    "    def read_conllu(self, file_path):\n",
    "        sentences = []\n",
    "        with open(file_path, 'r', encoding='utf-8') as file:\n",
    "            lines = file.readlines()\n",
    "            sentence_tokens = []\n",
    "            for line in lines:\n",
    "               if line.startswith('# sent_id = '): # чтобы определить когда начинается новое предложение\n",
    "                   if sentence_tokens:\n",
    "                       sentences.append(Sentence(sentence_tokens))\n",
    "                       sentence_tokens = []\n",
    "               elif line.startswith('# text = ') or line == '\\n':\n",
    "                   continue\n",
    "               else:\n",
    "                   token_values = line.split('\\t')\n",
    "                   if len(token_values) == 10:\n",
    "                       token = Token(token_values)\n",
    "                       sentence_tokens.append(token)\n",
    "            if sentence_tokens:\n",
    "               sentences.append(Sentence(sentence_tokens))\n",
    "        return sentences\n",
    "    def pos(self):\n",
    "       pos_counts = {}\n",
    "       words = 0\n",
    "       for sentence in self.sentences:\n",
    "           for token in sentence.tokens:\n",
    "               pos = token.UPOS\n",
    "               if pos in pos_counts:\n",
    "                   pos_counts[pos] += 1\n",
    "               else:\n",
    "                   pos_counts[pos] = 1\n",
    "               words += 1\n",
    "       print('POS\\t%')\n",
    "       for pos, count in pos_counts.items():\n",
    "           print(f'{pos}\\t{round((count / words) * 100, 1)}')\n",
    "    def unique_words(self):\n",
    "        words = []\n",
    "        for sentence in self.sentences:\n",
    "           for token in sentence.tokens:\n",
    "               if token.UPOS != 'PUNCT':\n",
    "                   words.append(token.FORM)\n",
    "        unique_words = len(set(words))\n",
    "        print('Количество уникальных слов: ', unique_words)\n",
    "    def form_lemma(self):\n",
    "        count = 0\n",
    "        for sentence in self.sentences:\n",
    "           for token in sentence.tokens:\n",
    "               if token.UPOS != 'PUNCT': # чтобы не учитывать знаки препинания\n",
    "                 if token.FORM == token.LEMMA:\n",
    "                   count += 1\n",
    "        print('Kоличество слов, которые по форме совпадают со своей леммой:', count)\n",
    "\n",
    "\n",
    "\n",
    "\n",
    "    \n",
    "    "
   ]
  },
  {
   "cell_type": "code",
   "execution_count": 86,
   "metadata": {},
   "outputs": [
    {
     "name": "stdout",
     "output_type": "stream",
     "text": [
      "POS\t%\n",
      "ADP\t12.7\n",
      "ADJ\t11.1\n",
      "NOUN\t31.7\n",
      "PROPN\t6.3\n",
      "PUNCT\t11.1\n",
      "VERB\t14.3\n",
      "NUM\t3.2\n",
      "CCONJ\t6.3\n",
      "ADV\t3.2\n",
      "Количество уникальных слов:  51\n",
      "Kоличество слов, которые по форме совпадают со своей леммой: 23\n"
     ]
    }
   ],
   "source": [
    "syntagrus_tiny = Conll('syntagrus_tiny.conllu')\n",
    "\n",
    "syntagrus_tiny.pos()\n",
    "syntagrus_tiny.unique_words()\n",
    "syntagrus_tiny.form_lemma()"
   ]
  },
  {
   "cell_type": "markdown",
   "metadata": {},
   "source": [
    "Задача 2\n",
    "Хотим написать программу - базу данных для библиотеки. Нам понадобится класс \"книга\", который будет содержать автора, название, жанр и количество страниц; а также класс \"библиотека\", в котором в атрибутах будут сидеть все наши книги. В библиотеку будут поступать запросы: нужно будет выдавать перечень всех книг одного автора, перечень всех книг конкретного жанра, а также проверять, что книга такого автора и с таким названием есть (вам хорошо помогут генераторные выражения для всех этих вещей, а еще можно переопределить магический метод __eq__ у класса \"книга\" - он должен возвращать bool, а внутри него можно сравнивать атрибуты экземпляров self и other - и проверять наличие объекта класса \"книга\" в списке)."
   ]
  },
  {
   "cell_type": "code",
   "execution_count": 62,
   "metadata": {},
   "outputs": [],
   "source": [
    "class Book:\n",
    "    def __init__(self, author, name, genre, pages):\n",
    "        self.author = author\n",
    "        self.name = name\n",
    "        self.genre = genre\n",
    "        self.pages = pages\n",
    "    def __eq__(self, other):\n",
    "        return self.author == other.author and self.name == other.name\n",
    "    \n",
    "    "
   ]
  },
  {
   "cell_type": "code",
   "execution_count": 92,
   "metadata": {},
   "outputs": [],
   "source": [
    "class Library:\n",
    "    def __init__(self):\n",
    "        self.books =[]\n",
    "    def add_book(self, book):\n",
    "        self.books.append(book)\n",
    "    def author_books(self, author):\n",
    "        return [f'{book.author}, {book.name}, {book.genre}, {book.pages}' for book in self.books if author == book.author]\n",
    "    def genre_books(self, genre):\n",
    "        return [f'{book.author}, {book.name}, {book.genre}, {book.pages}' for book in self.books if genre == book.genre]\n",
    "    def check(self, book):\n",
    "        return book in self.books\n",
    "        \n"
   ]
  },
  {
   "cell_type": "code",
   "execution_count": 93,
   "metadata": {},
   "outputs": [],
   "source": [
    "war_and_peace = Book('Толстой','Война и мир', 'роман', '1300')\n",
    "gamlet = Book('Шекспир', 'Гамлет', 'пьеса', '200')\n",
    "anna = Book('Толстой','Анна Каренина', 'роман', '900')\n"
   ]
  },
  {
   "cell_type": "code",
   "execution_count": 94,
   "metadata": {},
   "outputs": [],
   "source": [
    "library = Library()\n",
    "library.add_book(war_and_peace)\n",
    "library.add_book(anna)\n",
    "library.add_book(gamlet)\n"
   ]
  },
  {
   "cell_type": "code",
   "execution_count": 95,
   "metadata": {},
   "outputs": [
    {
     "data": {
      "text/plain": [
       "['Толстой, Война и мир, роман, 1300', 'Толстой, Анна Каренина, роман, 900']"
      ]
     },
     "execution_count": 95,
     "metadata": {},
     "output_type": "execute_result"
    }
   ],
   "source": [
    "library.author_books('Толстой')\n"
   ]
  },
  {
   "cell_type": "code",
   "execution_count": 96,
   "metadata": {},
   "outputs": [
    {
     "data": {
      "text/plain": [
       "['Толстой, Война и мир, роман, 1300', 'Толстой, Анна Каренина, роман, 900']"
      ]
     },
     "execution_count": 96,
     "metadata": {},
     "output_type": "execute_result"
    }
   ],
   "source": [
    "library.genre_books('роман')"
   ]
  },
  {
   "cell_type": "code",
   "execution_count": 97,
   "metadata": {},
   "outputs": [
    {
     "data": {
      "text/plain": [
       "True"
      ]
     },
     "execution_count": 97,
     "metadata": {},
     "output_type": "execute_result"
    }
   ],
   "source": [
    "library.check(gamlet)"
   ]
  }
 ],
 "metadata": {
  "kernelspec": {
   "display_name": "Python 3",
   "language": "python",
   "name": "python3"
  },
  "language_info": {
   "codemirror_mode": {
    "name": "ipython",
    "version": 3
   },
   "file_extension": ".py",
   "mimetype": "text/x-python",
   "name": "python",
   "nbconvert_exporter": "python",
   "pygments_lexer": "ipython3",
   "version": "3.9.13"
  }
 },
 "nbformat": 4,
 "nbformat_minor": 2
}
