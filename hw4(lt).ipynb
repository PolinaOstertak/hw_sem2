{
 "cells": [
  {
   "cell_type": "markdown",
   "metadata": {},
   "source": [
    "Задача 1 (5 баллов).\n",
    "Напишите игрушку Тамагочи (достаточно одного типа животного, но если пропишете классы еще для парочки, будет хорошо). Вам понадобятся модули random и sleep. У класса животного должны быть методы \"спать\", \"играть\" и \"есть\", а в атрибутах должны быть характеристики, например, \"сытость\" и \"усталость\". Лучше всего будет написать второй класс Game, в котором будет метод \"играть\". В процессе игры пользователь в цикле выбирает, что ему делать с животным. Воспользуйтесь ipywidgets для того, чтобы при запуске методов животного показывать, как проходит время и как пополняется или уменьшается какая-то из характеристик животного."
   ]
  },
  {
   "cell_type": "code",
   "execution_count": 1,
   "metadata": {},
   "outputs": [],
   "source": [
    "import ipywidgets\n",
    "from IPython.display import display\n",
    "from time import sleep\n",
    "import random"
   ]
  },
  {
   "cell_type": "code",
   "execution_count": 2,
   "metadata": {},
   "outputs": [],
   "source": [
    "class Cat:\n",
    "    def __init__(self, name):\n",
    "        self.name = name\n",
    "        self.pet_type = 'Cat'\n",
    "        self.hungry = random.randint(1, 5)\n",
    "        self.happy = random.randint(0, 5)\n",
    "        self.energy = random.randint(0, 5)\n",
    "        self.sleepy = random.randint(0, 5)\n",
    "    def feed(self):\n",
    "        self.hungry -= 2\n",
    "        if self.hungry < 0:\n",
    "            self.hungry = 0\n",
    "        elif self.hungry > 5:\n",
    "            self.hungry = 5\n",
    "    def play(self):\n",
    "        self.happy += 1\n",
    "        self.energy -= 1\n",
    "        if self.happy > 5:\n",
    "            self.happy = 5\n",
    "        if self.energy < 0:\n",
    "            self.energy = 0\n",
    "    def sleep(self):\n",
    "        self.sleepy -= 2\n",
    "        if self.sleepy < 0:\n",
    "            self.sleepy = 0\n",
    "        sleep(random.randint(1, 5))\n",
    "        self.energy = 5\n",
    "    def alive(self):\n",
    "        return self.hungry < 5\n",
    "class Dog:\n",
    "    def __init__(self, name):\n",
    "        self.name = name\n",
    "        self.pet_type = 'Dog'\n",
    "        self.hungry = random.randint(1, 5)\n",
    "        self.happy = random.randint(0, 5)\n",
    "        self.energy = random.randint(0, 5)\n",
    "        self.sleepy = random.randint(0, 5)\n",
    "    def feed(self):\n",
    "        self.hungry -= 2\n",
    "        if self.hungry < 0:\n",
    "            self.hungry = 0\n",
    "    def play(self):\n",
    "        self.happy += 1\n",
    "        self.energy -= 1\n",
    "        if self.energy < 0:\n",
    "            self.energy = 0\n",
    "    def sleep(self):\n",
    "        self.sleepy -= 2\n",
    "        if self.sleepy < 0:\n",
    "            self.sleepy = 0\n",
    "        sleep(random.randint(1, 5))\n",
    "        self.energy = 5\n",
    "    def alive(self):\n",
    "        return self.hungry < 5\n",
    "class Hamster:\n",
    "    def __init__(self, name):\n",
    "        self.name = name\n",
    "        self.pet_type = 'Hamster'\n",
    "        self.hungry = random.randint(1, 5)\n",
    "        self.happy = random.randint(0, 5)\n",
    "        self.energy = random.randint(0, 5)\n",
    "        self.sleepy = random.randint(0, 5)\n",
    "    def feed(self):\n",
    "        self.hungry -= 2\n",
    "        if self.hungry < 0:\n",
    "            self.hungry = 0\n",
    "    def play(self):\n",
    "        self.happy += 1\n",
    "        self.energy -= 1\n",
    "        if self.energy < 0:\n",
    "            self.energy = 0\n",
    "    def sleep(self):\n",
    "        self.sleepy -= 2\n",
    "        if self.sleepy < 0:\n",
    "            self.sleepy = 0\n",
    "        sleep(random.randint(1, 5))\n",
    "        self.energy = 5\n",
    "    def alive(self):\n",
    "        return self.hungry < 5\n",
    "class Game:\n",
    "    def __init__(self):\n",
    "        self.pet = None\n",
    "        self.hunger_widget = ipywidgets.IntProgress(min=0, max=5, description='Голод:')\n",
    "        self.happiness_widget = ipywidgets.IntProgress(min=0, max=5, description='Счастье:')\n",
    "        self.energy_widget = ipywidgets.IntProgress(min=0, max=5, description='Энергия:')\n",
    "        self.sleepiness_widget = ipywidgets.IntProgress(min=0, max=5, description='Усталость:')\n",
    "    def display_pet_attributes(self):\n",
    "        display(self.hunger_widget, self.happiness_widget, self.energy_widget, self.sleepiness_widget)\n",
    "\n",
    "    def update_pet_attributes(self):\n",
    "        self.hunger_widget.value = self.pet.hungry\n",
    "        self.happiness_widget.value = self.pet.happy\n",
    "        self.energy_widget.value = self.pet.energy\n",
    "        self.sleepiness_widget.value = self.pet.sleepy\n",
    "    def play(self):\n",
    "        pet_type = input('собака, кошка или хомяк: ')\n",
    "        pet_name = input('имя: ')\n",
    "        if pet_type == 'собака':\n",
    "            self.pet = Dog(pet_name)\n",
    "        elif pet_type == 'кошка':\n",
    "            self.pet = Cat(pet_name)\n",
    "        elif pet_type == 'хомяк':\n",
    "            self.pet = Hamster(pet_name)\n",
    "        self.display_pet_attributes()\n",
    "        while self.pet.alive():\n",
    "            print('1. покормить')\n",
    "            print('2. поиграть')\n",
    "            print('3. уложить спать')\n",
    "            c = int(input())\n",
    "            if c == 1:\n",
    "                self.pet.feed()\n",
    "            elif c == 2:\n",
    "                self.pet.play()\n",
    "            elif c == 3:\n",
    "                self.pet.sleep()\n",
    "            self.pet.energy -= 1\n",
    "            if self.pet.energy < 0:\n",
    "                self.pet.energy = 0\n",
    "            self.pet.hungry += 1 \n",
    "            self.pet.sleepy += 1\n",
    "            if self.pet.sleepy > 5:\n",
    "              self.pet.sleepy = 5\n",
    "            self.update_pet_attributes()\n",
    "            print(f'уровень голода - {self.pet.hungry}, уровень счастья - {self.pet.happy}, уровень энергии - {self.pet.energy}, желание спать - {self.pet.sleepy}')\n",
    "        print(f'{pet_name} умер')"
   ]
  },
  {
   "cell_type": "code",
   "execution_count": 3,
   "metadata": {},
   "outputs": [
    {
     "data": {
      "application/vnd.jupyter.widget-view+json": {
       "model_id": "5de604d26edd4063964f5386cbc4c731",
       "version_major": 2,
       "version_minor": 0
      },
      "text/plain": [
       "IntProgress(value=0, description='Голод:', max=5)"
      ]
     },
     "metadata": {},
     "output_type": "display_data"
    },
    {
     "data": {
      "application/vnd.jupyter.widget-view+json": {
       "model_id": "44adfdb88aa6495c832d873dd4bab533",
       "version_major": 2,
       "version_minor": 0
      },
      "text/plain": [
       "IntProgress(value=0, description='Счастье:', max=5)"
      ]
     },
     "metadata": {},
     "output_type": "display_data"
    },
    {
     "data": {
      "application/vnd.jupyter.widget-view+json": {
       "model_id": "db88ae8212ec44ed88038247bbdf6ea6",
       "version_major": 2,
       "version_minor": 0
      },
      "text/plain": [
       "IntProgress(value=0, description='Энергия:', max=5)"
      ]
     },
     "metadata": {},
     "output_type": "display_data"
    },
    {
     "data": {
      "application/vnd.jupyter.widget-view+json": {
       "model_id": "fd1583204fdf4eff9b9a27163d9595a7",
       "version_major": 2,
       "version_minor": 0
      },
      "text/plain": [
       "IntProgress(value=0, description='Усталость:', max=5)"
      ]
     },
     "metadata": {},
     "output_type": "display_data"
    },
    {
     "name": "stdout",
     "output_type": "stream",
     "text": [
      "1. покормить\n",
      "2. поиграть\n",
      "3. уложить спать\n",
      "уровень голода - 3, уровень счастья - 5, уровень энергии - 0, желание спать - 2\n",
      "1. покормить\n",
      "2. поиграть\n",
      "3. уложить спать\n",
      "уровень голода - 4, уровень счастья - 5, уровень энергии - 4, желание спать - 1\n",
      "1. покормить\n",
      "2. поиграть\n",
      "3. уложить спать\n",
      "уровень голода - 5, уровень счастья - 5, уровень энергии - 4, желание спать - 1\n",
      "Руфус умер\n"
     ]
    }
   ],
   "source": [
    "game = Game()\n",
    "game.play()\n"
   ]
  },
  {
   "cell_type": "markdown",
   "metadata": {},
   "source": [
    "Задача 2 (5 баллов).\n",
    "Возьмите любой достаточно большой текст (в текстовом файле!), желательно минимум рассказ, а лучше полноценный роман. Поделите его на слова и посчитайте для него статистику по количеству слов: сколько раз встретилось какое слово. Напишите функцию, которая будет отрисовывать на графике (столбцовая диаграмма подойдет) частоты для n самых частотных слов, при этом добавьте функции интерактивность и возможность выбирать n."
   ]
  },
  {
   "cell_type": "code",
   "execution_count": 5,
   "metadata": {},
   "outputs": [],
   "source": [
    "import matplotlib.pyplot as plt\n",
    "import nltk\n",
    "from nltk import FreqDist\n",
    "from nltk.corpus import stopwords\n",
    "import ipywidgets\n",
    "from IPython.display import display"
   ]
  },
  {
   "cell_type": "code",
   "execution_count": 6,
   "metadata": {},
   "outputs": [],
   "source": [
    "import pymorphy2\n",
    "morph = pymorphy2.MorphAnalyzer()"
   ]
  },
  {
   "cell_type": "code",
   "execution_count": 7,
   "metadata": {},
   "outputs": [
    {
     "data": {
      "application/vnd.jupyter.widget-view+json": {
       "model_id": "afac26a624b84f2388ef35ce32d28cb2",
       "version_major": 2,
       "version_minor": 0
      },
      "text/plain": [
       "interactive(children=(IntSlider(value=1, description='n', max=70, min=1), Output()), _dom_classes=('widget-int…"
      ]
     },
     "metadata": {},
     "output_type": "display_data"
    },
    {
     "data": {
      "text/plain": [
       "<function __main__.plot_frequency(n)>"
      ]
     },
     "execution_count": 7,
     "metadata": {},
     "output_type": "execute_result"
    }
   ],
   "source": [
    "with open('bulgakov.txt', 'r', encoding='utf-8') as file:\n",
    "    text = file.read()\n",
    "words = nltk.word_tokenize(text)\n",
    "words = [word.lower() for word in words if word.isalpha() and word not in stopwords.words('russian')]\n",
    "lemmatized_words = [morph.parse(word)[0].normal_form for word in words]\n",
    "\n",
    "def plot_frequency(n):\n",
    "        fdist = FreqDist(lemmatized_words)\n",
    "        most_common_words = fdist.most_common(n) # список кортежей (на превом месте слово, на втором сколько раз оно встречается)\n",
    "        top_words = [word[0] for word in most_common_words]\n",
    "        frequencies = [word[1] for word in most_common_words]\n",
    "        plt.figure(figsize=(10, 5))\n",
    "        plt.bar(top_words, frequencies)\n",
    "        plt.xlabel('Слова') # название горизонтальной оси\n",
    "        plt.ylabel('Частота') # название вертикальной оси\n",
    "        plt.show()\n",
    "\n",
    "n_slider = ipywidgets.IntSlider(min=1, max=70)\n",
    "ipywidgets.interact(plot_frequency, n=n_slider)\n",
    "\n",
    "\n"
   ]
  }
 ],
 "metadata": {
  "kernelspec": {
   "display_name": "Python 3",
   "language": "python",
   "name": "python3"
  },
  "language_info": {
   "codemirror_mode": {
    "name": "ipython",
    "version": 3
   },
   "file_extension": ".py",
   "mimetype": "text/x-python",
   "name": "python",
   "nbconvert_exporter": "python",
   "pygments_lexer": "ipython3",
   "version": "3.9.13"
  }
 },
 "nbformat": 4,
 "nbformat_minor": 2
}
