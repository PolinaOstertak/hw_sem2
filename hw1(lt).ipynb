{
 "cells": [
  {
   "cell_type": "markdown",
   "metadata": {},
   "source": [
    "Задача 1. В файле (можете взять любой файл с художественным произведением) содержится текст. Нужно сделать следующее:\n",
    "\n",
    "считать текст из файла, добыть из него слова без знаков пунктуации (кто умеет регуляркой - хорошо, но в целом достаточно стандартных split и strip), собрать их во множество, чтобы не было повторяющихся слов. отсортировать слова с конца, как в словаре Зализняка. создать папку 'zaliznyak' в этй папку записать несколько файлов: каждый файл называется по букве, на которую заканчиваются слова, которые в нем содержатся. То есть, файл с названием А.txt должен содержать мама, на, окна, пара и так далее. (Необязательное) Все слова должны быть выровнены по правому краю, если догадаетесь, как сделать так, чтобы выравнивание происходило по самому длинному слову - отлично. (Нужно использовать f-строки и их параметры)."
   ]
  },
  {
   "cell_type": "code",
   "execution_count": 8,
   "metadata": {},
   "outputs": [],
   "source": [
    "import os\n",
    "import re\n",
    "\n",
    "with open('liza.txt', 'r', encoding='utf-8') as file:\n",
    "    text = file.read()\n",
    "words = re.findall(r'[a-zа-яё]+', text, flags=re.IGNORECASE)\n",
    "unique_words = sorted(set(words), reverse=True)\n",
    "os.makedirs('zaliznyak', exist_ok=True)\n",
    "for word in unique_words:\n",
    "    last_letter = word[-1].lower()\n",
    "    file_path = os.path.join('zaliznyak', f'{last_letter}.txt')\n",
    "    with open(file_path, 'a', encoding='utf-8') as file:\n",
    "        file.write(f'{word.rjust(30)}\\n')\n",
    "file.close()"
   ]
  },
  {
   "cell_type": "markdown",
   "metadata": {},
   "source": [
    "Задача 2. Напишите программу-игру, состоящую из функций. Смысл игры в том, что человек вводит с клавиатуры какой-нибудь достаточно длинный набор слов, компьютер эти слова сохраняет в списке и перемешивает случайным образом; потом человек загадывает число (не больше, чем количество введенных слов), и компьютер выдает ему ответом слово с таким индексом. Можно гадать!\n",
    "\n",
    "В программе должно быть минимум две функции: одна для создания списка слов, а вторая - собственно игра. При запуске у человека должен быть выбор, что он хочет сделать: создать (или перезаписать) список слов, играть или покинуть игру. Выбор должен производиться в бесконечном цикле while, который прерывается, когда человек выбирает покинуть игру. Используйте условные инструкции внутри цикла."
   ]
  },
  {
   "cell_type": "code",
   "execution_count": 9,
   "metadata": {},
   "outputs": [
    {
     "name": "stdout",
     "output_type": "stream",
     "text": [
      "1. Ввести слова\n",
      "2. Играть\n",
      "3. Выход\n",
      "1. Ввести слова\n",
      "2. Играть\n",
      "3. Выход\n",
      "['окно', 'дом', 'сад', 'мама']\n",
      "сад\n",
      "1. Ввести слова\n",
      "2. Играть\n",
      "3. Выход\n"
     ]
    }
   ],
   "source": [
    "import pickle\n",
    "from random import shuffle\n",
    "\n",
    "\n",
    "def create_word_list(words):\n",
    "  words = input('Введите слова ')\n",
    "  word_list = words.split()\n",
    "  with open('word_list.pkl', 'wb') as file:\n",
    "        pickle.dump(word_list, file)\n",
    "  return(word_list)\n",
    "\n",
    "def game():\n",
    "  with open('word_list.pkl', 'rb') as file:\n",
    "            word_list = pickle.load(file)\n",
    "  if not word_list:\n",
    "    print('Сначала введите слова')\n",
    "  else:\n",
    "    shuffle(word_list)\n",
    "    print(word_list)\n",
    "  number = int(input('Введите число'))\n",
    "  if number > len(word_list):\n",
    "    print('Такого нет')\n",
    "  else:\n",
    "    print(word_list[number - 1])\n",
    "\n",
    "while True:\n",
    "  print('1. Ввести слова')\n",
    "  print('2. Играть')\n",
    "  print('3. Выход')\n",
    "\n",
    "  choice = input()\n",
    "\n",
    "  if choice == '1':\n",
    "    create_word_list(words)\n",
    "  elif choice == '2':\n",
    "    game()\n",
    "  else:\n",
    "    break"
   ]
  },
  {
   "cell_type": "markdown",
   "metadata": {},
   "source": [
    "Задача 3. Напишем программу - телефонный справочник."
   ]
  },
  {
   "cell_type": "code",
   "execution_count": 11,
   "metadata": {},
   "outputs": [
    {
     "name": "stdout",
     "output_type": "stream",
     "text": [
      "Справочник уже есть\n",
      "1. Искать номер\n",
      "2. Создать запись\n",
      "3. Сохранить справочник в файл\n",
      "4. Выход\n",
      "1. Искать номер\n",
      "2. Создать запись\n",
      "3. Сохранить справочник в файл\n",
      "4. Выход\n",
      "1. Искать номер\n",
      "2. Создать запись\n",
      "3. Сохранить справочник в файл\n",
      "4. Выход\n",
      "367457635\n",
      "1. Искать номер\n",
      "2. Создать запись\n",
      "3. Сохранить справочник в файл\n",
      "4. Выход\n"
     ]
    }
   ],
   "source": [
    "import os\n",
    "import json\n",
    "\n",
    "def search(book, name):\n",
    "  if name in book:\n",
    "    print(book[name])\n",
    "  else:\n",
    "    print('Такого нет')\n",
    "def create(book, name, number):\n",
    "\n",
    "  book[name] = number\n",
    "def save(book, file):\n",
    "  file = open('phonebook.json', 'w')\n",
    "  json.dump(book, file)\n",
    "if os.path.exists('phonebook.json'):\n",
    "  print('Справочник уже есть')\n",
    "  with open('phonebook.json', 'r') as file:\n",
    "      book = json.load(file)\n",
    "  file.close()\n",
    "else:\n",
    "  print('Справочника пока нет')\n",
    "  book = {}\n",
    "while True:\n",
    "  print('1. Искать номер')\n",
    "  print('2. Создать запись')\n",
    "  print('3. Сохранить справочник в файл')\n",
    "  print('4. Выход')\n",
    "  choice = input()\n",
    "  if choice == '1':\n",
    "    name = input('Имя: ')\n",
    "    search(book, name)\n",
    "  elif choice == '2':\n",
    "    name = input('Имя: ')\n",
    "    number = input('Номер: ')\n",
    "    create(book, name, number)\n",
    "  elif choice == '3':\n",
    "    save(book, file)\n",
    "  else:\n",
    "    break"
   ]
  },
  {
   "cell_type": "markdown",
   "metadata": {},
   "source": [
    "Задача 4. Пользователь вводит путь к файлу, а ваша программа должна 1) проверить, что путь введен правильно и такой файл существует 2) попытаться открыть этот файл 3) считать из него текст и вывести на экран первые 200 символов, если текст длиннее 200 символов, и весь текст, если не длиннее."
   ]
  },
  {
   "cell_type": "code",
   "execution_count": 12,
   "metadata": {},
   "outputs": [
    {
     "name": "stdout",
     "output_type": "stream",
     "text": [
      "Такой файл существует\n",
      "Annotation\n",
      "\n",
      "\n",
      "Николай Михайлович Карамзин (1766–1826) – писатель, историк и просветитель, создатель одного из наиболее значительных трудов в российской историографии – «История государства Российского»\n"
     ]
    }
   ],
   "source": [
    "import os\n",
    "filename = input()\n",
    "if os.path.exists(filename):\n",
    "  print('Такой файл существует')\n",
    "  with open(filename, 'r', encoding='utf-8') as file:\n",
    "    text = file.read()\n",
    "    if len(text) <= 200:\n",
    "      print(text)\n",
    "    elif len(text) > 200:\n",
    "      print(text[:200])\n",
    "else:\n",
    "  print('Такого файла не существует или путь введен неверно')"
   ]
  }
 ],
 "metadata": {
  "kernelspec": {
   "display_name": "Python 3",
   "language": "python",
   "name": "python3"
  },
  "language_info": {
   "codemirror_mode": {
    "name": "ipython",
    "version": 3
   },
   "file_extension": ".py",
   "mimetype": "text/x-python",
   "name": "python",
   "nbconvert_exporter": "python",
   "pygments_lexer": "ipython3",
   "version": "3.9.13"
  }
 },
 "nbformat": 4,
 "nbformat_minor": 2
}
